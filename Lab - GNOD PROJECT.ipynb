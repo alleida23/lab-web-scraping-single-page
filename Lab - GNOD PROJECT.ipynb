{
 "cells": [
  {
   "cell_type": "markdown",
   "id": "809a0208",
   "metadata": {},
   "source": [
    "## Lab | Web Scraping Single Page\n",
    "\n",
    "\n",
    "\n",
    "\n",
    "#### Business goal:\n",
    "Check the case_study_gnod.md file.\n",
    "\n",
    "Make sure you've understood the big picture of your project:\n",
    "\n",
    "- the goal of the company (Gnod),\n",
    "- their current product (Gnoosic),\n",
    "- their strategy, and\n",
    "- how your project fits into this context.\n",
    "\n",
    "Re-read the business case and the e-mail from the CTO, take a look at the flowchart and create an initial Trello board with the tasks you think you'll have to accomplish.\n",
    "\n",
    "\n",
    "\n",
    "\n",
    "\n",
    "#### Instructions - Scraping popular songs\n",
    "Your product will take a song as an input from the user and will output another song (the recommendation). In most cases, the recommended song will have to be similar to the inputted song, but the CTO thinks that if the song is on the top charts at the moment, the user will enjoy more a recommendation of a song that's also popular at the moment.\n",
    "\n",
    "You have find data on the internet about currently popular songs. Billboard maintains a weekly Top 100 of \"hot\" songs here: https://www.billboard.com/charts/hot-100.\n",
    "\n",
    "It's a good place to start! Scrape the current top 100 songs and their respective artists, and put the information into a pandas dataframe.\n",
    "\n",
    "\n",
    "\n",
    "\n",
    "--> popvortex.com/music/charts/top-100-songs.php"
   ]
  },
  {
   "cell_type": "markdown",
   "id": "1d44a112",
   "metadata": {},
   "source": [
    "## GNOD 1"
   ]
  },
  {
   "cell_type": "code",
   "execution_count": 1,
   "id": "96ee2aaa",
   "metadata": {},
   "outputs": [],
   "source": [
    "# Libraries\n",
    "import pandas as pd\n",
    "import requests\n",
    "from bs4 import BeautifulSoup"
   ]
  },
  {
   "cell_type": "code",
   "execution_count": 2,
   "id": "8c974f54",
   "metadata": {},
   "outputs": [
    {
     "data": {
      "text/plain": [
       "200"
      ]
     },
     "metadata": {},
     "output_type": "display_data"
    }
   ],
   "source": [
    "url = 'https://www.popvortex.com/music/charts/top-100-songs.php'\n",
    "response = requests.get(url)\n",
    "soup = BeautifulSoup(response.content, 'html.parser')\n",
    "\n",
    "display(response.status_code)\n",
    "#soup"
   ]
  },
  {
   "cell_type": "code",
   "execution_count": 3,
   "id": "d58aeabf",
   "metadata": {},
   "outputs": [],
   "source": [
    "# Artist Name // #chart-position-1 > div.chart-content.col-xs-12.col-sm-8 > p > em"
   ]
  },
  {
   "cell_type": "code",
   "execution_count": 4,
   "id": "11a14661",
   "metadata": {},
   "outputs": [],
   "source": [
    "# Song title // #chart-position-1 > div.chart-content.col-xs-12.col-sm-8 > p > cite"
   ]
  },
  {
   "cell_type": "code",
   "execution_count": 5,
   "id": "314e44b3",
   "metadata": {},
   "outputs": [],
   "source": [
    "# genre // #chart-position-1 > div.chart-content.col-xs-12.col-sm-8 > ul > li:nth-child(2) > a"
   ]
  },
  {
   "cell_type": "code",
   "execution_count": 6,
   "id": "4b708110",
   "metadata": {},
   "outputs": [],
   "source": [
    "# release date // #chart-position-1 > div.chart-content.col-xs-12.col-sm-8 > ul > li:nth-child(3)"
   ]
  },
  {
   "cell_type": "code",
   "execution_count": 7,
   "id": "14927aa9",
   "metadata": {},
   "outputs": [],
   "source": [
    "#soup.select(\"p\")"
   ]
  },
  {
   "cell_type": "code",
   "execution_count": 8,
   "id": "29b8fe70",
   "metadata": {},
   "outputs": [
    {
     "data": {
      "text/plain": [
       "[<cite class=\"title\">Last Night</cite>,\n",
       " <cite class=\"title\">Flowers</cite>,\n",
       " <cite class=\"title\">Fast Car</cite>,\n",
       " <cite class=\"title\">Like Crazy (Deep House Remix)</cite>,\n",
       " <cite class=\"title\">Like Crazy (UK Garage Remix)</cite>,\n",
       " <cite class=\"title\">Calm Down</cite>,\n",
       " <cite class=\"title\">Like Crazy (Instrumental)</cite>,\n",
       " <cite class=\"title\">Heart Like A Truck</cite>,\n",
       " <cite class=\"title\">Eyes Closed</cite>,\n",
       " <cite class=\"title\">Justice for All</cite>]"
      ]
     },
     "execution_count": 8,
     "metadata": {},
     "output_type": "execute_result"
    }
   ],
   "source": [
    "soup.select(\"p cite\")[0:10]"
   ]
  },
  {
   "cell_type": "code",
   "execution_count": 9,
   "id": "ff62dae1",
   "metadata": {},
   "outputs": [
    {
     "data": {
      "text/plain": [
       "[<em class=\"artist\">Morgan Wallen</em>,\n",
       " <em class=\"artist\">Miley Cyrus</em>,\n",
       " <em class=\"artist\">Luke Combs</em>,\n",
       " <em class=\"artist\">Jimin</em>,\n",
       " <em class=\"artist\">Jimin</em>,\n",
       " <em class=\"artist\">Rema &amp; Selena Gomez</em>,\n",
       " <em class=\"artist\">Jimin</em>,\n",
       " <em class=\"artist\">Lainey Wilson</em>,\n",
       " <em class=\"artist\">Ed Sheeran</em>,\n",
       " <em class=\"artist\">Donald J. Trump &amp; J6 Prison Choir</em>]"
      ]
     },
     "execution_count": 9,
     "metadata": {},
     "output_type": "execute_result"
    }
   ],
   "source": [
    "soup.select(\"p em\")[0:10]"
   ]
  },
  {
   "cell_type": "code",
   "execution_count": 10,
   "id": "a6fb96b2",
   "metadata": {},
   "outputs": [
    {
     "data": {
      "text/plain": [
       "[<a href=\"/music/charts/top-country-songs.php\">Country</a>,\n",
       " <a href=\"/music/charts/top-kpop-songs.php\">K-Pop</a>,\n",
       " <a href=\"/music/charts/top-kpop-songs.php\">K-Pop</a>,\n",
       " <a href=\"/music/charts/top-kpop-songs.php\">K-Pop</a>,\n",
       " <a href=\"/music/charts/top-pop-songs.php\">Pop</a>,\n",
       " <a href=\"/music/charts/top-kpop-songs.php\">K-Pop</a>,\n",
       " <a href=\"/music/charts/top-alternative-songs.php\">Alternative</a>,\n",
       " <a href=\"/music/charts/top-kpop-songs.php\">K-Pop</a>,\n",
       " <a href=\"/music/charts/top-christian-gospel-songs.php\">Christian &amp; Gospel</a>,\n",
       " <a href=\"/music/charts/top-pop-songs.php\">Pop</a>]"
      ]
     },
     "execution_count": 10,
     "metadata": {},
     "output_type": "execute_result"
    }
   ],
   "source": [
    "soup.select(\"div.chart-content.col-xs-12.col-sm-8 > ul > li:nth-child(2) > a\")[0:10]"
   ]
  },
  {
   "cell_type": "code",
   "execution_count": 11,
   "id": "55753bcb",
   "metadata": {},
   "outputs": [
    {
     "data": {
      "text/plain": [
       "[<li class=\"billboard-chart billboard-number-one\">The current #1 hit song  in the U.S. on the <cite><a href=\"http://www.billboard.com/charts/hot-100\" rel=\"noopener\" target=\"_blank\">Billboard Hot 100</a></cite> chart.<br/>2 weeks at #1.</li>,\n",
       " <li><strong>Release Date</strong>: March 24, 2023</li>,\n",
       " <li><strong>Release Date</strong>: March 26, 2023</li>,\n",
       " <li><strong>Release Date</strong>: March 26, 2023</li>,\n",
       " <li><strong>Release Date</strong>: March 26, 2023</li>,\n",
       " <li><strong>Release Date</strong>: March 24, 2023</li>,\n",
       " <li><strong>Release Date</strong>: March 24, 2023</li>,\n",
       " <li><strong>Release Date</strong>: </li>,\n",
       " <li><strong>Release Date</strong>: March 24, 2023</li>,\n",
       " <li class=\"billboard-chart\">Former #1 song on the <cite>Billboard Hot 100</cite> chart.</li>]"
      ]
     },
     "execution_count": 11,
     "metadata": {},
     "output_type": "execute_result"
    }
   ],
   "source": [
    "soup.select (\"div.chart-content.col-xs-12.col-sm-8 > ul > li:nth-child(3)\")[0:10]"
   ]
  },
  {
   "cell_type": "code",
   "execution_count": 12,
   "id": "0a603ce2",
   "metadata": {},
   "outputs": [
    {
     "name": "stdout",
     "output_type": "stream",
     "text": [
      "['Last Night', 'Flowers', 'Fast Car', 'Like Crazy (Deep House Remix)', 'Like Crazy (UK Garage Remix)', 'Calm Down', 'Like Crazy (Instrumental)', 'Heart Like A Truck', 'Eyes Closed', 'Justice for All']\n",
      "['Morgan Wallen', 'Miley Cyrus', 'Luke Combs', 'Jimin', 'Jimin', 'Rema & Selena Gomez', 'Jimin', 'Lainey Wilson', 'Ed Sheeran', 'Donald J. Trump & J6 Prison Choir']\n",
      "100\n",
      "100\n"
     ]
    }
   ],
   "source": [
    "#Empty Lists\n",
    "title = []\n",
    "artist = []\n",
    "\n",
    "# Iterations\n",
    "num_iter = len(soup.select(\"p cite\"))\n",
    "\n",
    "title_song = soup.select(\"p cite\")\n",
    "artist_song = soup.select(\"p em\")\n",
    "\n",
    "for i in range(num_iter):\n",
    "    title.append(title_song[i].get_text())\n",
    "    artist.append(artist_song[i].get_text())\n",
    "    \n",
    "print(title[0:10])\n",
    "print(artist[0:10])\n",
    "\n",
    "\n",
    "#Empty Lists\n",
    "#genre = []\n",
    "#release_date = []\n",
    "\n",
    "# Iterations\n",
    "#num_iter = len(soup.select(\"div.chart-content.col-xs-12.col-sm-8 > ul > li:nth-child(2) > a\"))\n",
    "\n",
    "#genre_song = soup.select(\"div.chart-content.col-xs-12.col-sm-8 > ul > li:nth-child(2) > a\")\n",
    "#release_date_song = soup.select(\"div.chart-content.col-xs-12.col-sm-8 > ul > li:nth-child(3)\")\n",
    "\n",
    "#for i in range(num_iter):\n",
    "#    genre.append(genre_song[i].get_text())\n",
    "    \n",
    "#import re\n",
    "    \n",
    "#for i in range(num_iter):\n",
    "#    release_date_string = release_date_song[i].get_text()\n",
    "#    match = re.search(r'(19|20)\\d{2}', release_date_string)\n",
    "#    if match:\n",
    "#        year = match.group()\n",
    "#        release_date.append(year)\n",
    "    \n",
    "#print(genre[0:10])\n",
    "#print(release_date[0:10])\n",
    "\n",
    "print(len(title))\n",
    "print(len(artist))\n",
    "#print(len(genre))\n",
    "#print(len(release_date))"
   ]
  },
  {
   "cell_type": "code",
   "execution_count": 13,
   "id": "e47ebdfd",
   "metadata": {},
   "outputs": [],
   "source": [
    "# Columns of a dataframe\n",
    "topsongs = pd.DataFrame({\"title\":title,\n",
    "                       \"artist\":artist})"
   ]
  },
  {
   "cell_type": "code",
   "execution_count": 14,
   "id": "8354770e",
   "metadata": {},
   "outputs": [
    {
     "data": {
      "text/html": [
       "<div>\n",
       "<style scoped>\n",
       "    .dataframe tbody tr th:only-of-type {\n",
       "        vertical-align: middle;\n",
       "    }\n",
       "\n",
       "    .dataframe tbody tr th {\n",
       "        vertical-align: top;\n",
       "    }\n",
       "\n",
       "    .dataframe thead th {\n",
       "        text-align: right;\n",
       "    }\n",
       "</style>\n",
       "<table border=\"1\" class=\"dataframe\">\n",
       "  <thead>\n",
       "    <tr style=\"text-align: right;\">\n",
       "      <th></th>\n",
       "      <th>title</th>\n",
       "      <th>artist</th>\n",
       "    </tr>\n",
       "  </thead>\n",
       "  <tbody>\n",
       "    <tr>\n",
       "      <th>0</th>\n",
       "      <td>Last Night</td>\n",
       "      <td>Morgan Wallen</td>\n",
       "    </tr>\n",
       "    <tr>\n",
       "      <th>1</th>\n",
       "      <td>Flowers</td>\n",
       "      <td>Miley Cyrus</td>\n",
       "    </tr>\n",
       "    <tr>\n",
       "      <th>2</th>\n",
       "      <td>Fast Car</td>\n",
       "      <td>Luke Combs</td>\n",
       "    </tr>\n",
       "    <tr>\n",
       "      <th>3</th>\n",
       "      <td>Like Crazy (Deep House Remix)</td>\n",
       "      <td>Jimin</td>\n",
       "    </tr>\n",
       "    <tr>\n",
       "      <th>4</th>\n",
       "      <td>Like Crazy (UK Garage Remix)</td>\n",
       "      <td>Jimin</td>\n",
       "    </tr>\n",
       "    <tr>\n",
       "      <th>5</th>\n",
       "      <td>Calm Down</td>\n",
       "      <td>Rema &amp; Selena Gomez</td>\n",
       "    </tr>\n",
       "    <tr>\n",
       "      <th>6</th>\n",
       "      <td>Like Crazy (Instrumental)</td>\n",
       "      <td>Jimin</td>\n",
       "    </tr>\n",
       "    <tr>\n",
       "      <th>7</th>\n",
       "      <td>Heart Like A Truck</td>\n",
       "      <td>Lainey Wilson</td>\n",
       "    </tr>\n",
       "    <tr>\n",
       "      <th>8</th>\n",
       "      <td>Eyes Closed</td>\n",
       "      <td>Ed Sheeran</td>\n",
       "    </tr>\n",
       "    <tr>\n",
       "      <th>9</th>\n",
       "      <td>Justice for All</td>\n",
       "      <td>Donald J. Trump &amp; J6 Prison Choir</td>\n",
       "    </tr>\n",
       "    <tr>\n",
       "      <th>10</th>\n",
       "      <td>Like Crazy (English Version)</td>\n",
       "      <td>Jimin</td>\n",
       "    </tr>\n",
       "    <tr>\n",
       "      <th>11</th>\n",
       "      <td>Fighting Myself</td>\n",
       "      <td>LINKIN PARK</td>\n",
       "    </tr>\n",
       "    <tr>\n",
       "      <th>12</th>\n",
       "      <td>Like Crazy</td>\n",
       "      <td>Jimin</td>\n",
       "    </tr>\n",
       "    <tr>\n",
       "      <th>13</th>\n",
       "      <td>You Say</td>\n",
       "      <td>Lauren Daigle</td>\n",
       "    </tr>\n",
       "    <tr>\n",
       "      <th>14</th>\n",
       "      <td>Anti-Hero</td>\n",
       "      <td>Taylor Swift</td>\n",
       "    </tr>\n",
       "    <tr>\n",
       "      <th>15</th>\n",
       "      <td>Thinkin’ Bout Me</td>\n",
       "      <td>Morgan Wallen</td>\n",
       "    </tr>\n",
       "    <tr>\n",
       "      <th>16</th>\n",
       "      <td>Thought You Should Know</td>\n",
       "      <td>Morgan Wallen</td>\n",
       "    </tr>\n",
       "    <tr>\n",
       "      <th>17</th>\n",
       "      <td>Players</td>\n",
       "      <td>Coi Leray</td>\n",
       "    </tr>\n",
       "    <tr>\n",
       "      <th>18</th>\n",
       "      <td>Growin' Up and Gettin' Old</td>\n",
       "      <td>Luke Combs</td>\n",
       "    </tr>\n",
       "    <tr>\n",
       "      <th>19</th>\n",
       "      <td>labour</td>\n",
       "      <td>Paris Paloma</td>\n",
       "    </tr>\n",
       "  </tbody>\n",
       "</table>\n",
       "</div>"
      ],
      "text/plain": [
       "                            title                             artist\n",
       "0                      Last Night                      Morgan Wallen\n",
       "1                         Flowers                        Miley Cyrus\n",
       "2                        Fast Car                         Luke Combs\n",
       "3   Like Crazy (Deep House Remix)                              Jimin\n",
       "4    Like Crazy (UK Garage Remix)                              Jimin\n",
       "5                       Calm Down                Rema & Selena Gomez\n",
       "6       Like Crazy (Instrumental)                              Jimin\n",
       "7              Heart Like A Truck                      Lainey Wilson\n",
       "8                     Eyes Closed                         Ed Sheeran\n",
       "9                 Justice for All  Donald J. Trump & J6 Prison Choir\n",
       "10   Like Crazy (English Version)                              Jimin\n",
       "11                Fighting Myself                        LINKIN PARK\n",
       "12                     Like Crazy                              Jimin\n",
       "13                        You Say                      Lauren Daigle\n",
       "14                      Anti-Hero                       Taylor Swift\n",
       "15               Thinkin’ Bout Me                      Morgan Wallen\n",
       "16        Thought You Should Know                      Morgan Wallen\n",
       "17                        Players                          Coi Leray\n",
       "18     Growin' Up and Gettin' Old                         Luke Combs\n",
       "19                         labour                       Paris Paloma"
      ]
     },
     "execution_count": 14,
     "metadata": {},
     "output_type": "execute_result"
    }
   ],
   "source": [
    "topsongs.head(20)"
   ]
  },
  {
   "cell_type": "code",
   "execution_count": 15,
   "id": "e64142a3",
   "metadata": {},
   "outputs": [
    {
     "data": {
      "text/plain": [
       "100"
      ]
     },
     "execution_count": 15,
     "metadata": {},
     "output_type": "execute_result"
    }
   ],
   "source": [
    "len(topsongs)"
   ]
  },
  {
   "cell_type": "code",
   "execution_count": null,
   "id": "a3d57d89",
   "metadata": {},
   "outputs": [],
   "source": []
  },
  {
   "cell_type": "markdown",
   "id": "e93417d9",
   "metadata": {},
   "source": [
    "## GNOD 2"
   ]
  },
  {
   "cell_type": "markdown",
   "id": "bd01a411",
   "metadata": {},
   "source": [
    "The first steps you took yesterday, were to create a list of Top Songs and Artists from scraping web sites.\n",
    "\n",
    "\n",
    "You should have ended with your lists in a data frame containing at least Song Title and Artist.\n",
    "\n",
    "\n",
    "Today you are creating a recommender where the user inputs a song title and check if that song is in the list you created.   If it is,  give a different random song and artist from the list.  If it is not on the list, let the user know that you have no recommendation at this time."
   ]
  },
  {
   "cell_type": "code",
   "execution_count": 16,
   "id": "c00331bf",
   "metadata": {},
   "outputs": [
    {
     "data": {
      "text/html": [
       "<div>\n",
       "<style scoped>\n",
       "    .dataframe tbody tr th:only-of-type {\n",
       "        vertical-align: middle;\n",
       "    }\n",
       "\n",
       "    .dataframe tbody tr th {\n",
       "        vertical-align: top;\n",
       "    }\n",
       "\n",
       "    .dataframe thead th {\n",
       "        text-align: right;\n",
       "    }\n",
       "</style>\n",
       "<table border=\"1\" class=\"dataframe\">\n",
       "  <thead>\n",
       "    <tr style=\"text-align: right;\">\n",
       "      <th></th>\n",
       "      <th>title</th>\n",
       "      <th>artist</th>\n",
       "    </tr>\n",
       "  </thead>\n",
       "  <tbody>\n",
       "    <tr>\n",
       "      <th>0</th>\n",
       "      <td>Last Night</td>\n",
       "      <td>Morgan Wallen</td>\n",
       "    </tr>\n",
       "    <tr>\n",
       "      <th>1</th>\n",
       "      <td>Flowers</td>\n",
       "      <td>Miley Cyrus</td>\n",
       "    </tr>\n",
       "    <tr>\n",
       "      <th>2</th>\n",
       "      <td>Fast Car</td>\n",
       "      <td>Luke Combs</td>\n",
       "    </tr>\n",
       "    <tr>\n",
       "      <th>3</th>\n",
       "      <td>Like Crazy (Deep House Remix)</td>\n",
       "      <td>Jimin</td>\n",
       "    </tr>\n",
       "    <tr>\n",
       "      <th>4</th>\n",
       "      <td>Like Crazy (UK Garage Remix)</td>\n",
       "      <td>Jimin</td>\n",
       "    </tr>\n",
       "  </tbody>\n",
       "</table>\n",
       "</div>"
      ],
      "text/plain": [
       "                           title         artist\n",
       "0                     Last Night  Morgan Wallen\n",
       "1                        Flowers    Miley Cyrus\n",
       "2                       Fast Car     Luke Combs\n",
       "3  Like Crazy (Deep House Remix)          Jimin\n",
       "4   Like Crazy (UK Garage Remix)          Jimin"
      ]
     },
     "execution_count": 16,
     "metadata": {},
     "output_type": "execute_result"
    }
   ],
   "source": [
    "# Previous dataframe\n",
    "topsongs.head(5)"
   ]
  },
  {
   "cell_type": "code",
   "execution_count": 34,
   "id": "dc3c90e4",
   "metadata": {},
   "outputs": [
    {
     "name": "stdout",
     "output_type": "stream",
     "text": [
      "Introduce the name of a song: Flowers\n"
     ]
    },
    {
     "data": {
      "text/markdown": [
       "You should listen to: **Unstoppable by Sia**!"
      ],
      "text/plain": [
       "<IPython.core.display.Markdown object>"
      ]
     },
     "metadata": {},
     "output_type": "display_data"
    }
   ],
   "source": [
    "import random\n",
    "from IPython.display import Markdown, display  # library to display in bolt letters, etc\n",
    "\n",
    "def similar_top100(topsongs, song_searched):\n",
    "    \n",
    "    # Converting both input value and 'title' in lower case\n",
    "    song_searched = song_searched.lower() \n",
    "    topsongs['title'] = topsongs['title'].str.lower()\n",
    "    \n",
    "    # IF song in the input IS IN the 'title column'\n",
    "    if song_searched in topsongs['title'].values:\n",
    "        # While song in input IS different from the recommended (output)\n",
    "        while True:\n",
    "            # Generating a random number to select another song from the list\n",
    "            random_num = random.randint(0, len(topsongs)-1)\n",
    "            # Picking the song 'title' with random_num index\n",
    "            song_recommended_title = topsongs.iloc[random_num]['title']\n",
    "            # Getting also the artist name \n",
    "            song_recommended_artist = topsongs.iloc[random_num]['artist']\n",
    "            # If recommended song IS NOT the same as the searched one, stop the while\n",
    "            if song_recommended_title != song_searched:\n",
    "                break\n",
    "        # Capitalizing first letters of 'title' (.title())\n",
    "        song_recommended_title = song_recommended_title.title()\n",
    "        # Joinning song and artist to display in the output\n",
    "        song_recommended = f\"{song_recommended_title} by {song_recommended_artist}\"\n",
    "        # Displaying output with both 'title' and 'artist' bigger and bolt style.\n",
    "        display(Markdown(f\"You should listen to: **{song_recommended}**!\"))\n",
    "    \n",
    "    # If song in the input IS NOT in 'title column'\n",
    "    else:\n",
    "        print(\"Sorry, you have very bad musical taste. Try another one...\")\n",
    "\n",
    "# Input\n",
    "song_searched = input(\"Introduce the name of a song: \")\n",
    "# Applying function\n",
    "similar_top100(topsongs,song_searched)"
   ]
  },
  {
   "cell_type": "code",
   "execution_count": null,
   "id": "2ee3bdd1",
   "metadata": {},
   "outputs": [],
   "source": []
  }
 ],
 "metadata": {
  "kernelspec": {
   "display_name": "Python 3 (ipykernel)",
   "language": "python",
   "name": "python3"
  },
  "language_info": {
   "codemirror_mode": {
    "name": "ipython",
    "version": 3
   },
   "file_extension": ".py",
   "mimetype": "text/x-python",
   "name": "python",
   "nbconvert_exporter": "python",
   "pygments_lexer": "ipython3",
   "version": "3.9.13"
  }
 },
 "nbformat": 4,
 "nbformat_minor": 5
}
